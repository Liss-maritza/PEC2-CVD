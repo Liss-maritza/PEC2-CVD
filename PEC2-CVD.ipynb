{
 "cells": [
  {
   "cell_type": "markdown",
   "metadata": {
    "id": "OAjo1uG1aGdu"
   },
   "source": [
    "<div style=\"width: 100%; clear: both;\">\n",
    "<div style=\"float: left; width: 50%;\">\n",
    "<img src=\"http://www.uoc.edu/portal/_resources/common/imatges/marca_UOC/UOC_Masterbrand.jpg\", align=\"left\">\n",
    "</div>\n",
    "<div style=\"float: right; width: 50%;\">\n",
    "<p style=\"margin: 0; padding-top: 22px; text-align:right;\">M2.851 · Tipología y ciclo de vida de los datos · PRA2</p>\n",
    "<p style=\"margin: 0; text-align:right;\">2020-2 · Máster universitario en Ciencia de datos (<i>Data science</i>)</p>\n",
    "<p style=\"margin: 0; text-align:right; padding-button: 100px;\">Estudios de Informática, Multimedia y Telecomunicación\n",
    "\n",
    "</p>\n",
    "</div>\n",
    "</div>\n",
    "<div style=\"width:100%;\">&nbsp;</div>\n",
    "\n",
    "\n",
    "# PRA 2: Limpieza y análisis\n",
    "\n",
    "En esta práctica se elabora un caso práctico orientado a aprender a identificar los datos relevantes para un proyecto analítico y usar las herramientas de integración, limpieza, validación y análisis de las mismas. Para hacer esta práctica tendréis que trabajar en grupos de 2 personas.\n",
    "\n",
    "Tendréis que entregar un solo archivo con el enlace Github (https://github.com) donde haya las soluciones incluyendo los nombres de los componentes del equipo. Podéis utilizar la Wiki de Github para describir vuestro equipo y los diferentes archivos que corresponden a vuestra entrega. Cada miembro del equipo tendrá que contribuir con su usuario Github. Podeís utilizar estos ejemplos como guía:"
   ]
  },
  {
   "cell_type": "markdown",
   "metadata": {},
   "source": [
    "<div style=\"background-color: #EDF7FF; border-color: #7C9DBF; border-left: 5px solid #7C9DBF; padding: 0.5em;\">\n",
    "<strong>Trabajo realizado por:</strong> \n",
    "    \n",
    "    - César Irnán Sillero\n",
    "    - Lissette Muñoz Guillen\n",
    "</div>"
   ]
  },
  {
   "cell_type": "code",
   "execution_count": 1,
   "metadata": {
    "id": "WVnaOwEVa_0S"
   },
   "outputs": [],
   "source": [
    "import numpy as np \n",
    "import pandas as pd\n",
    "import seaborn as sns\n",
    "import matplotlib.pyplot as plt\n",
    "from sklearn import datasets\n",
    "\n",
    "# Visualización\n",
    "from matplotlib.colors import ListedColormap\n",
    "import matplotlib.pyplot as plt\n",
    "\n",
    "%matplotlib inline"
   ]
  },
  {
   "cell_type": "markdown",
   "metadata": {},
   "source": [
    "# 1. Descripción del set de datos\n",
    "\n",
    "<div style=\"background-color: #F4F6F6;\">\n",
    "    <hr>\n",
    "Se ha seleccionado un conjunto de datos que contiene variables numéricas que miden la calidad del vino con un puntaje entre 0 y 10.\n",
    " \n",
    "    1 - fixed_acidity: Cantidad de acidez fija, acidez total menos los ácidos volátiles (varibale numérica)\n",
    "    2 - volatile acidity: Cantidad de acidez volatil (variable numérica)\n",
    "    3 - citric acid: Cantidad de ácido cítrico (variable numérica)\n",
    "    4 - residual sugar: Cantidad de azucar residual (variable numérica)\n",
    "    5 - chlorides: Cantidad de cloruros de sodio (variable numérica)\n",
    "    6 - free sulfur dioxide: Cantidad de díoxido de azufre libre (variable numérica)\n",
    "    7 - total sulfur dioxide: Cantidad de díoxido de azufre total (variable numérica)\n",
    "    8 - density: Densidad del vino (variable numérica)\n",
    "    9 - pH: Medida de la acidez del vino (variable numérica)\n",
    "    10 - sulphates: Cantidad de sulfato de potasio (variable numérica)\n",
    "    11 - alcohol: Porcentaje por volumen (variable numérica)\n",
    "   \n",
    "    \n",
    "La variable \"target\" \n",
    "    \n",
    "    12 - quality: Puntuación entre 0 y 10\n",
    "</div>"
   ]
  },
  {
   "cell_type": "markdown",
   "metadata": {},
   "source": [
    "<div style=\"background-color: #EDF7FF; border-color: #7C9DBF; border-left: 5px solid #7C9DBF; padding: 0.5em;\">\n",
    "<strong>Objetivos:</strong> \n",
    "</div>"
   ]
  },
  {
   "cell_type": "markdown",
   "metadata": {},
   "source": [
    "<div style=\"background-color: #F4F6F6;\">\n",
    " \n",
    "    \n",
    "Los objetivos concretos de esta práctica son:\n",
    "    \n",
    "    - Aprender a aplicar los conocimientos adquiridos y su capacidad de resolución de problemas en entornos nuevos o poco \n",
    "      conocidos dentro de contextos más amplios o multidisciplinares.\n",
    "    - Saber identificar los datos relevantes y los tratamientos necesarios (integración, limpieza y validación) para llevar \n",
    "      a cabo un proyecto analítico.\n",
    "    - Aprender a analizar los datos adecuadamente para abordar la información contenida en los datos.\n",
    "    - Identificar la mejor representación de los resultados para aportar conclusiones sobre el problema planteado en el \n",
    "      proceso analítico.\n",
    "    - Actuar con los principios éticos y legales relacionados con la manipulación de datos en función del ámbito de  \n",
    "      aplicación.\n",
    "    - Desarrollar las habilidades de aprendizaje que les permitan continuar estudiando de un modo que tendrá que ser en \n",
    "      gran medida autodirigido o autónomo.\n",
    "    - Desarrollar la capacidad de búsqueda, gestión y uso de información y recursos en el ámbito de la ciencia de datos.\n",
    "    \n",
    "</div>"
   ]
  },
  {
   "cell_type": "markdown",
   "metadata": {},
   "source": [
    "# 2. Integración y selección de los datos de interés a analizar.\n",
    "\n",
    "<hr>\n",
    "<div style=\"background-color: #F4F6F6;\">\n",
    "Con la carga de los datos, tenemos un set con 9 variables que proporcionan información de los clientes y una variable hipoteca que determina si fue o no otorgada la hipoteca.\n",
    "\n",
    "Inicialmente exploraremos los datos\n",
    "</div>"
   ]
  },
  {
   "cell_type": "markdown",
   "metadata": {},
   "source": [
    "<div style=\"background-color: #EDF7FF; border-color: #7C9DBF; border-left: 5px solid #7C9DBF; padding: 0.5em;\">\n",
    "<strong>Carga de los datos:</strong> \n",
    "</div>"
   ]
  },
  {
   "cell_type": "code",
   "execution_count": 2,
   "metadata": {},
   "outputs": [
    {
     "data": {
      "text/html": [
       "<div>\n",
       "<style scoped>\n",
       "    .dataframe tbody tr th:only-of-type {\n",
       "        vertical-align: middle;\n",
       "    }\n",
       "\n",
       "    .dataframe tbody tr th {\n",
       "        vertical-align: top;\n",
       "    }\n",
       "\n",
       "    .dataframe thead th {\n",
       "        text-align: right;\n",
       "    }\n",
       "</style>\n",
       "<table border=\"1\" class=\"dataframe\">\n",
       "  <thead>\n",
       "    <tr style=\"text-align: right;\">\n",
       "      <th></th>\n",
       "      <th>fixed acidity</th>\n",
       "      <th>volatile acidity</th>\n",
       "      <th>citric acid</th>\n",
       "      <th>residual sugar</th>\n",
       "      <th>chlorides</th>\n",
       "      <th>free sulfur dioxide</th>\n",
       "      <th>total sulfur dioxide</th>\n",
       "      <th>density</th>\n",
       "      <th>pH</th>\n",
       "      <th>sulphates</th>\n",
       "      <th>alcohol</th>\n",
       "      <th>quality</th>\n",
       "    </tr>\n",
       "  </thead>\n",
       "  <tbody>\n",
       "    <tr>\n",
       "      <th>0</th>\n",
       "      <td>7.4</td>\n",
       "      <td>0.700</td>\n",
       "      <td>0.00</td>\n",
       "      <td>1.9</td>\n",
       "      <td>0.076</td>\n",
       "      <td>11.0</td>\n",
       "      <td>34.0</td>\n",
       "      <td>0.99780</td>\n",
       "      <td>3.51</td>\n",
       "      <td>0.56</td>\n",
       "      <td>9.4</td>\n",
       "      <td>5</td>\n",
       "    </tr>\n",
       "    <tr>\n",
       "      <th>1</th>\n",
       "      <td>7.8</td>\n",
       "      <td>0.880</td>\n",
       "      <td>0.00</td>\n",
       "      <td>2.6</td>\n",
       "      <td>0.098</td>\n",
       "      <td>25.0</td>\n",
       "      <td>67.0</td>\n",
       "      <td>0.99680</td>\n",
       "      <td>3.20</td>\n",
       "      <td>0.68</td>\n",
       "      <td>9.8</td>\n",
       "      <td>5</td>\n",
       "    </tr>\n",
       "    <tr>\n",
       "      <th>2</th>\n",
       "      <td>7.8</td>\n",
       "      <td>0.760</td>\n",
       "      <td>0.04</td>\n",
       "      <td>2.3</td>\n",
       "      <td>0.092</td>\n",
       "      <td>15.0</td>\n",
       "      <td>54.0</td>\n",
       "      <td>0.99700</td>\n",
       "      <td>3.26</td>\n",
       "      <td>0.65</td>\n",
       "      <td>9.8</td>\n",
       "      <td>5</td>\n",
       "    </tr>\n",
       "    <tr>\n",
       "      <th>3</th>\n",
       "      <td>11.2</td>\n",
       "      <td>0.280</td>\n",
       "      <td>0.56</td>\n",
       "      <td>1.9</td>\n",
       "      <td>0.075</td>\n",
       "      <td>17.0</td>\n",
       "      <td>60.0</td>\n",
       "      <td>0.99800</td>\n",
       "      <td>3.16</td>\n",
       "      <td>0.58</td>\n",
       "      <td>9.8</td>\n",
       "      <td>6</td>\n",
       "    </tr>\n",
       "    <tr>\n",
       "      <th>4</th>\n",
       "      <td>7.4</td>\n",
       "      <td>0.700</td>\n",
       "      <td>0.00</td>\n",
       "      <td>1.9</td>\n",
       "      <td>0.076</td>\n",
       "      <td>11.0</td>\n",
       "      <td>34.0</td>\n",
       "      <td>0.99780</td>\n",
       "      <td>3.51</td>\n",
       "      <td>0.56</td>\n",
       "      <td>9.4</td>\n",
       "      <td>5</td>\n",
       "    </tr>\n",
       "    <tr>\n",
       "      <th>...</th>\n",
       "      <td>...</td>\n",
       "      <td>...</td>\n",
       "      <td>...</td>\n",
       "      <td>...</td>\n",
       "      <td>...</td>\n",
       "      <td>...</td>\n",
       "      <td>...</td>\n",
       "      <td>...</td>\n",
       "      <td>...</td>\n",
       "      <td>...</td>\n",
       "      <td>...</td>\n",
       "      <td>...</td>\n",
       "    </tr>\n",
       "    <tr>\n",
       "      <th>1594</th>\n",
       "      <td>6.2</td>\n",
       "      <td>0.600</td>\n",
       "      <td>0.08</td>\n",
       "      <td>2.0</td>\n",
       "      <td>0.090</td>\n",
       "      <td>32.0</td>\n",
       "      <td>44.0</td>\n",
       "      <td>0.99490</td>\n",
       "      <td>3.45</td>\n",
       "      <td>0.58</td>\n",
       "      <td>10.5</td>\n",
       "      <td>5</td>\n",
       "    </tr>\n",
       "    <tr>\n",
       "      <th>1595</th>\n",
       "      <td>5.9</td>\n",
       "      <td>0.550</td>\n",
       "      <td>0.10</td>\n",
       "      <td>2.2</td>\n",
       "      <td>0.062</td>\n",
       "      <td>39.0</td>\n",
       "      <td>51.0</td>\n",
       "      <td>0.99512</td>\n",
       "      <td>3.52</td>\n",
       "      <td>0.76</td>\n",
       "      <td>11.2</td>\n",
       "      <td>6</td>\n",
       "    </tr>\n",
       "    <tr>\n",
       "      <th>1596</th>\n",
       "      <td>6.3</td>\n",
       "      <td>0.510</td>\n",
       "      <td>0.13</td>\n",
       "      <td>2.3</td>\n",
       "      <td>0.076</td>\n",
       "      <td>29.0</td>\n",
       "      <td>40.0</td>\n",
       "      <td>0.99574</td>\n",
       "      <td>3.42</td>\n",
       "      <td>0.75</td>\n",
       "      <td>11.0</td>\n",
       "      <td>6</td>\n",
       "    </tr>\n",
       "    <tr>\n",
       "      <th>1597</th>\n",
       "      <td>5.9</td>\n",
       "      <td>0.645</td>\n",
       "      <td>0.12</td>\n",
       "      <td>2.0</td>\n",
       "      <td>0.075</td>\n",
       "      <td>32.0</td>\n",
       "      <td>44.0</td>\n",
       "      <td>0.99547</td>\n",
       "      <td>3.57</td>\n",
       "      <td>0.71</td>\n",
       "      <td>10.2</td>\n",
       "      <td>5</td>\n",
       "    </tr>\n",
       "    <tr>\n",
       "      <th>1598</th>\n",
       "      <td>6.0</td>\n",
       "      <td>0.310</td>\n",
       "      <td>0.47</td>\n",
       "      <td>3.6</td>\n",
       "      <td>0.067</td>\n",
       "      <td>18.0</td>\n",
       "      <td>42.0</td>\n",
       "      <td>0.99549</td>\n",
       "      <td>3.39</td>\n",
       "      <td>0.66</td>\n",
       "      <td>11.0</td>\n",
       "      <td>6</td>\n",
       "    </tr>\n",
       "  </tbody>\n",
       "</table>\n",
       "<p>1599 rows × 12 columns</p>\n",
       "</div>"
      ],
      "text/plain": [
       "      fixed acidity  volatile acidity  citric acid  residual sugar  chlorides  \\\n",
       "0               7.4             0.700         0.00             1.9      0.076   \n",
       "1               7.8             0.880         0.00             2.6      0.098   \n",
       "2               7.8             0.760         0.04             2.3      0.092   \n",
       "3              11.2             0.280         0.56             1.9      0.075   \n",
       "4               7.4             0.700         0.00             1.9      0.076   \n",
       "...             ...               ...          ...             ...        ...   \n",
       "1594            6.2             0.600         0.08             2.0      0.090   \n",
       "1595            5.9             0.550         0.10             2.2      0.062   \n",
       "1596            6.3             0.510         0.13             2.3      0.076   \n",
       "1597            5.9             0.645         0.12             2.0      0.075   \n",
       "1598            6.0             0.310         0.47             3.6      0.067   \n",
       "\n",
       "      free sulfur dioxide  total sulfur dioxide  density    pH  sulphates  \\\n",
       "0                    11.0                  34.0  0.99780  3.51       0.56   \n",
       "1                    25.0                  67.0  0.99680  3.20       0.68   \n",
       "2                    15.0                  54.0  0.99700  3.26       0.65   \n",
       "3                    17.0                  60.0  0.99800  3.16       0.58   \n",
       "4                    11.0                  34.0  0.99780  3.51       0.56   \n",
       "...                   ...                   ...      ...   ...        ...   \n",
       "1594                 32.0                  44.0  0.99490  3.45       0.58   \n",
       "1595                 39.0                  51.0  0.99512  3.52       0.76   \n",
       "1596                 29.0                  40.0  0.99574  3.42       0.75   \n",
       "1597                 32.0                  44.0  0.99547  3.57       0.71   \n",
       "1598                 18.0                  42.0  0.99549  3.39       0.66   \n",
       "\n",
       "      alcohol  quality  \n",
       "0         9.4        5  \n",
       "1         9.8        5  \n",
       "2         9.8        5  \n",
       "3         9.8        6  \n",
       "4         9.4        5  \n",
       "...       ...      ...  \n",
       "1594     10.5        5  \n",
       "1595     11.2        6  \n",
       "1596     11.0        6  \n",
       "1597     10.2        5  \n",
       "1598     11.0        6  \n",
       "\n",
       "[1599 rows x 12 columns]"
      ]
     },
     "execution_count": 2,
     "metadata": {},
     "output_type": "execute_result"
    }
   ],
   "source": [
    "wine = pd.read_csv(\"winequality-red.csv\")\n",
    "wine"
   ]
  },
  {
   "cell_type": "markdown",
   "metadata": {},
   "source": [
    "<div style=\"background-color: #F4F6F6;\">\n",
    "Realizaremos las operaciones básicas de estadistica descriptiva para todas las variables.\n",
    "</div>"
   ]
  },
  {
   "cell_type": "code",
   "execution_count": 3,
   "metadata": {},
   "outputs": [
    {
     "data": {
      "text/html": [
       "<div>\n",
       "<style scoped>\n",
       "    .dataframe tbody tr th:only-of-type {\n",
       "        vertical-align: middle;\n",
       "    }\n",
       "\n",
       "    .dataframe tbody tr th {\n",
       "        vertical-align: top;\n",
       "    }\n",
       "\n",
       "    .dataframe thead th {\n",
       "        text-align: right;\n",
       "    }\n",
       "</style>\n",
       "<table border=\"1\" class=\"dataframe\">\n",
       "  <thead>\n",
       "    <tr style=\"text-align: right;\">\n",
       "      <th></th>\n",
       "      <th>fixed acidity</th>\n",
       "      <th>volatile acidity</th>\n",
       "      <th>citric acid</th>\n",
       "      <th>residual sugar</th>\n",
       "      <th>chlorides</th>\n",
       "      <th>free sulfur dioxide</th>\n",
       "      <th>total sulfur dioxide</th>\n",
       "      <th>density</th>\n",
       "      <th>pH</th>\n",
       "      <th>sulphates</th>\n",
       "      <th>alcohol</th>\n",
       "      <th>quality</th>\n",
       "    </tr>\n",
       "  </thead>\n",
       "  <tbody>\n",
       "    <tr>\n",
       "      <th>count</th>\n",
       "      <td>1599.000000</td>\n",
       "      <td>1599.000000</td>\n",
       "      <td>1599.000000</td>\n",
       "      <td>1599.000000</td>\n",
       "      <td>1599.000000</td>\n",
       "      <td>1599.000000</td>\n",
       "      <td>1599.000000</td>\n",
       "      <td>1599.000000</td>\n",
       "      <td>1599.000000</td>\n",
       "      <td>1599.000000</td>\n",
       "      <td>1599.000000</td>\n",
       "      <td>1599.000000</td>\n",
       "    </tr>\n",
       "    <tr>\n",
       "      <th>mean</th>\n",
       "      <td>8.319637</td>\n",
       "      <td>0.527821</td>\n",
       "      <td>0.270976</td>\n",
       "      <td>2.538806</td>\n",
       "      <td>0.087467</td>\n",
       "      <td>15.874922</td>\n",
       "      <td>46.467792</td>\n",
       "      <td>0.996747</td>\n",
       "      <td>3.311113</td>\n",
       "      <td>0.658149</td>\n",
       "      <td>10.422983</td>\n",
       "      <td>5.636023</td>\n",
       "    </tr>\n",
       "    <tr>\n",
       "      <th>std</th>\n",
       "      <td>1.741096</td>\n",
       "      <td>0.179060</td>\n",
       "      <td>0.194801</td>\n",
       "      <td>1.409928</td>\n",
       "      <td>0.047065</td>\n",
       "      <td>10.460157</td>\n",
       "      <td>32.895324</td>\n",
       "      <td>0.001887</td>\n",
       "      <td>0.154386</td>\n",
       "      <td>0.169507</td>\n",
       "      <td>1.065668</td>\n",
       "      <td>0.807569</td>\n",
       "    </tr>\n",
       "    <tr>\n",
       "      <th>min</th>\n",
       "      <td>4.600000</td>\n",
       "      <td>0.120000</td>\n",
       "      <td>0.000000</td>\n",
       "      <td>0.900000</td>\n",
       "      <td>0.012000</td>\n",
       "      <td>1.000000</td>\n",
       "      <td>6.000000</td>\n",
       "      <td>0.990070</td>\n",
       "      <td>2.740000</td>\n",
       "      <td>0.330000</td>\n",
       "      <td>8.400000</td>\n",
       "      <td>3.000000</td>\n",
       "    </tr>\n",
       "    <tr>\n",
       "      <th>25%</th>\n",
       "      <td>7.100000</td>\n",
       "      <td>0.390000</td>\n",
       "      <td>0.090000</td>\n",
       "      <td>1.900000</td>\n",
       "      <td>0.070000</td>\n",
       "      <td>7.000000</td>\n",
       "      <td>22.000000</td>\n",
       "      <td>0.995600</td>\n",
       "      <td>3.210000</td>\n",
       "      <td>0.550000</td>\n",
       "      <td>9.500000</td>\n",
       "      <td>5.000000</td>\n",
       "    </tr>\n",
       "    <tr>\n",
       "      <th>50%</th>\n",
       "      <td>7.900000</td>\n",
       "      <td>0.520000</td>\n",
       "      <td>0.260000</td>\n",
       "      <td>2.200000</td>\n",
       "      <td>0.079000</td>\n",
       "      <td>14.000000</td>\n",
       "      <td>38.000000</td>\n",
       "      <td>0.996750</td>\n",
       "      <td>3.310000</td>\n",
       "      <td>0.620000</td>\n",
       "      <td>10.200000</td>\n",
       "      <td>6.000000</td>\n",
       "    </tr>\n",
       "    <tr>\n",
       "      <th>75%</th>\n",
       "      <td>9.200000</td>\n",
       "      <td>0.640000</td>\n",
       "      <td>0.420000</td>\n",
       "      <td>2.600000</td>\n",
       "      <td>0.090000</td>\n",
       "      <td>21.000000</td>\n",
       "      <td>62.000000</td>\n",
       "      <td>0.997835</td>\n",
       "      <td>3.400000</td>\n",
       "      <td>0.730000</td>\n",
       "      <td>11.100000</td>\n",
       "      <td>6.000000</td>\n",
       "    </tr>\n",
       "    <tr>\n",
       "      <th>max</th>\n",
       "      <td>15.900000</td>\n",
       "      <td>1.580000</td>\n",
       "      <td>1.000000</td>\n",
       "      <td>15.500000</td>\n",
       "      <td>0.611000</td>\n",
       "      <td>72.000000</td>\n",
       "      <td>289.000000</td>\n",
       "      <td>1.003690</td>\n",
       "      <td>4.010000</td>\n",
       "      <td>2.000000</td>\n",
       "      <td>14.900000</td>\n",
       "      <td>8.000000</td>\n",
       "    </tr>\n",
       "  </tbody>\n",
       "</table>\n",
       "</div>"
      ],
      "text/plain": [
       "       fixed acidity  volatile acidity  citric acid  residual sugar  \\\n",
       "count    1599.000000       1599.000000  1599.000000     1599.000000   \n",
       "mean        8.319637          0.527821     0.270976        2.538806   \n",
       "std         1.741096          0.179060     0.194801        1.409928   \n",
       "min         4.600000          0.120000     0.000000        0.900000   \n",
       "25%         7.100000          0.390000     0.090000        1.900000   \n",
       "50%         7.900000          0.520000     0.260000        2.200000   \n",
       "75%         9.200000          0.640000     0.420000        2.600000   \n",
       "max        15.900000          1.580000     1.000000       15.500000   \n",
       "\n",
       "         chlorides  free sulfur dioxide  total sulfur dioxide      density  \\\n",
       "count  1599.000000          1599.000000           1599.000000  1599.000000   \n",
       "mean      0.087467            15.874922             46.467792     0.996747   \n",
       "std       0.047065            10.460157             32.895324     0.001887   \n",
       "min       0.012000             1.000000              6.000000     0.990070   \n",
       "25%       0.070000             7.000000             22.000000     0.995600   \n",
       "50%       0.079000            14.000000             38.000000     0.996750   \n",
       "75%       0.090000            21.000000             62.000000     0.997835   \n",
       "max       0.611000            72.000000            289.000000     1.003690   \n",
       "\n",
       "                pH    sulphates      alcohol      quality  \n",
       "count  1599.000000  1599.000000  1599.000000  1599.000000  \n",
       "mean      3.311113     0.658149    10.422983     5.636023  \n",
       "std       0.154386     0.169507     1.065668     0.807569  \n",
       "min       2.740000     0.330000     8.400000     3.000000  \n",
       "25%       3.210000     0.550000     9.500000     5.000000  \n",
       "50%       3.310000     0.620000    10.200000     6.000000  \n",
       "75%       3.400000     0.730000    11.100000     6.000000  \n",
       "max       4.010000     2.000000    14.900000     8.000000  "
      ]
     },
     "execution_count": 3,
     "metadata": {},
     "output_type": "execute_result"
    }
   ],
   "source": [
    "wine.describe()"
   ]
  },
  {
   "cell_type": "markdown",
   "metadata": {},
   "source": [
    "# 3. Limpieza de datos.\n",
    "\n",
    "<hr>\n",
    "<div style=\"background-color: #F4F6F6;\">\n",
    "Con la carga de los datos, tenemos un set con 9 variables que proporcionan información de los clientes y una variable hipoteca que determina si fue o no otorgada la hipoteca.\n",
    "\n",
    "Inicialmente exploraremos y haremos una limpieza de todas las variables.\n",
    "</div>"
   ]
  },
  {
   "cell_type": "markdown",
   "metadata": {},
   "source": [
    "<div style=\"background-color: #EDF7FF; border-color: #7C9DBF; border-left: 5px solid #7C9DBF; padding: 0.5em;\">\n",
    "<strong>Tratamiento de datos con ceros o elementos vacios</strong> \n",
    "</div>"
   ]
  },
  {
   "cell_type": "markdown",
   "metadata": {},
   "source": [
    "<div style=\"background-color: #F4F6F6;\">\n",
    "Es común encontrar en los conjuntos de datos valores con elementos vacios o valores ceros que no son parte de los datos normales. Este hecho se puede dar por varias razones: porque estos datos no existen, no se registraron correctamente o un error de computo, es importante analizar estos datos ya que podrían causar errores en nuestros análisis.\n",
    "\n",
    "Este tipo de datos pueden tratarse de las siguientes formas:\n",
    "\n",
    "    - Eliminar las variables con un porcentaje alto de valores vacíos\n",
    "    - Eliminar las filas con variables no disponibles\n",
    "    - Imputar los datos o llenarlos con un valor por defecto\n",
    "    \n",
    "Entonces buscaremos los valores nulos en nuestro conjunto de datos con la función isnull().\n",
    "</div>"
   ]
  },
  {
   "cell_type": "code",
   "execution_count": 4,
   "metadata": {},
   "outputs": [
    {
     "name": "stdout",
     "output_type": "stream",
     "text": [
      "      fixed acidity  volatile acidity  citric acid  residual sugar  chlorides  \\\n",
      "0             False             False        False           False      False   \n",
      "1             False             False        False           False      False   \n",
      "2             False             False        False           False      False   \n",
      "3             False             False        False           False      False   \n",
      "4             False             False        False           False      False   \n",
      "...             ...               ...          ...             ...        ...   \n",
      "1594          False             False        False           False      False   \n",
      "1595          False             False        False           False      False   \n",
      "1596          False             False        False           False      False   \n",
      "1597          False             False        False           False      False   \n",
      "1598          False             False        False           False      False   \n",
      "\n",
      "      free sulfur dioxide  total sulfur dioxide  density     pH  sulphates  \\\n",
      "0                   False                 False    False  False      False   \n",
      "1                   False                 False    False  False      False   \n",
      "2                   False                 False    False  False      False   \n",
      "3                   False                 False    False  False      False   \n",
      "4                   False                 False    False  False      False   \n",
      "...                   ...                   ...      ...    ...        ...   \n",
      "1594                False                 False    False  False      False   \n",
      "1595                False                 False    False  False      False   \n",
      "1596                False                 False    False  False      False   \n",
      "1597                False                 False    False  False      False   \n",
      "1598                False                 False    False  False      False   \n",
      "\n",
      "      alcohol  quality  \n",
      "0       False    False  \n",
      "1       False    False  \n",
      "2       False    False  \n",
      "3       False    False  \n",
      "4       False    False  \n",
      "...       ...      ...  \n",
      "1594    False    False  \n",
      "1595    False    False  \n",
      "1596    False    False  \n",
      "1597    False    False  \n",
      "1598    False    False  \n",
      "\n",
      "[1599 rows x 12 columns]\n"
     ]
    }
   ],
   "source": [
    "wine_check=wine.isnull()\n",
    "print(wine_check)"
   ]
  },
  {
   "cell_type": "code",
   "execution_count": 5,
   "metadata": {},
   "outputs": [
    {
     "data": {
      "text/plain": [
       "False"
      ]
     },
     "execution_count": 5,
     "metadata": {},
     "output_type": "execute_result"
    }
   ],
   "source": [
    "wine.isnull().values.any()"
   ]
  },
  {
   "cell_type": "markdown",
   "metadata": {},
   "source": [
    "<div style=\"background-color: #F4F6F6;\">\n",
    "Podemos observar que nuestro conjunto de datos no tiene valores nulos. La función anterior nos devolviera TRUE si existiera algún NaN en el DataFrame.\n",
    "    \n",
    "En el caso de existir este tipo de valores en nuestros datos los tratariamos de la siguinte manera:\n",
    "    \n",
    "    \n",
    "    ....pendiente...\n",
    "</div>"
   ]
  },
  {
   "cell_type": "markdown",
   "metadata": {},
   "source": [
    "<div style=\"background-color: #EDF7FF; border-color: #7C9DBF; border-left: 5px solid #7C9DBF; padding: 0.5em;\">\n",
    "<strong>Identificación y tratamiento de valores extremos</strong> \n",
    "</div>"
   ]
  },
  {
   "cell_type": "markdown",
   "metadata": {},
   "source": [
    "<div style=\"background-color: #F4F6F6;\">\n",
    "Los valores extremos o tambien conocidos por su término en ingles \"outliers\", decimos que son los valores que se escapan al rango en donde se \n",
    "concentran la mayoría de muestras. Es necesario detectar esos valores, ya que pueden afectar considerablemente a los resultados que pueda\n",
    "obtener el modelo, por ejemplo, para una regresión puede causar un efecto negativo en las predicciones.\n",
    "\n",
    "Aún con estas consideraciones, los valores extremos pueden significar:\n",
    "\n",
    "    1. Un error: Si existen valores fuera de la realidad como por ejemplo en un grupo de edades de personas, tener un\n",
    "       registro con 170 años, lo que nos indicaría que es un error de carga de datos. \n",
    "    \n",
    "    2. Limites: En otros casos, podemos tener valores que se escapan del “grupo medio”, pero queremos mantener el dato\n",
    "       modificado, para que no perjudique modelo.\n",
    "    \n",
    "    3. Punto de Interés: Datos “anómalos” que pueden mantenerse o eliminarse de nuestros datos dependiendo cual sea el\n",
    "       objetivo. Este no representa un error, puede ser un indicador de falta de datos.\n",
    "   \n",
    "Para identificar estos outliers en nuestro set de datos, vamos a representar cada una de las variables con un diagrama de\n",
    "de caja con la función sns.boxplot, además, en la parte superior de cada gráfica mostraremos los cuartiles superior e inferior, así como la media de cada una de las variables.\n",
    "\n",
    "De esta manera analizaremos cada variable y se dará el respectivo tratamiento a los valores extremos.\n",
    "\n",
    "</div>"
   ]
  },
  {
   "cell_type": "code",
   "execution_count": 6,
   "metadata": {},
   "outputs": [
    {
     "name": "stdout",
     "output_type": "stream",
     "text": [
      "Cuartil inferior: 7.1  Cuartil superior: 9.2  Media: 8.319637273295838\n"
     ]
    },
    {
     "data": {
      "image/png": "[encoded data removed]",
      "text/plain": [
       "<Figure size 432x288 with 1 Axes>"
      ]
     },
     "metadata": {
      "needs_background": "light"
     },
     "output_type": "display_data"
    }
   ],
   "source": [
    "#Graficamos\n",
    "green_diamond = dict(markerfacecolor='y', marker='D')\n",
    "ax = sns.boxplot(x=wine[\"fixed acidity\"],flierprops=green_diamond)\n",
    "\n",
    "#Valores de media y quartiles para el analisis\n",
    "iqrS = (np.quantile(wine[\"fixed acidity\"], 0.75))\n",
    "iqrI =(np.quantile(wine[\"fixed acidity\"], 0.25))\n",
    "m=wine[\"fixed acidity\"].mean()\n",
    "print (\"Cuartil inferior:\", iqrI, \" Cuartil superior:\", iqrS, \" Media:\", m)"
   ]
  },
  {
   "cell_type": "markdown",
   "metadata": {},
   "source": [
    "<div style=\"background-color: #F4F6F6;\">\n",
    "De acuerdo a esta gráfica, tenemos muchos valores atípicos, que estan en el rango entre 12 y 16. Los valores de acidez fija pueden ser muy variantes en el vino por lo que en este caso dejaremos estos valores en nuestro conjunto de datos para ser parte del análisis.\n",
    "</div>"
   ]
  },
  {
   "cell_type": "code",
   "execution_count": 7,
   "metadata": {},
   "outputs": [
    {
     "name": "stdout",
     "output_type": "stream",
     "text": [
      "Cuartil inferior: 0.39  Cuartil superior: 0.64  Media: 0.5278205128205131\n"
     ]
    },
    {
     "data": {
      "image/png": "[encoded data removed]",
      "text/plain": [
       "<Figure size 432x288 with 1 Axes>"
      ]
     },
     "metadata": {
      "needs_background": "light"
     },
     "output_type": "display_data"
    }
   ],
   "source": [
    "#Graficamos\n",
    "green_diamond = dict(markerfacecolor='y', marker='D')\n",
    "ax = sns.boxplot(x=wine[\"volatile acidity\"],flierprops=green_diamond)\n",
    "\n",
    "#Valores de media y quartiles para el analisis\n",
    "iqrS = (np.quantile(wine[\"volatile acidity\"], 0.75))\n",
    "iqrI =(np.quantile(wine[\"volatile acidity\"], 0.25))\n",
    "m=wine[\"volatile acidity\"].mean()\n",
    "print (\"Cuartil inferior:\", iqrI, \" Cuartil superior:\", iqrS, \" Media:\", m)"
   ]
  },
  {
   "cell_type": "markdown",
   "metadata": {},
   "source": [
    "<div style=\"background-color: #F4F6F6;\">\n",
    "Para la variable 'volatile acidity' se tiene varios valores atípicos en un rango de 1 y 1.4, quedando un solo valor cerca de 1.6. En el caso de la acidez volatil del vino, de acuerdo a (www.catadelvino.com) \"La calidad de un vino es mayor cuanto menor es su acidez volátil\", lo que podríamos considerar que este único valor atípico de 1.6 podría interferir en nuestro analisis, considerando los valores medios y cuartiles. \n",
    " <hr>\n",
    "Procedemos a eliminar este valor atípico para que no afecte nuestro análisis posterior.\n",
    "</div>"
   ]
  },
  {
   "cell_type": "code",
   "execution_count": 8,
   "metadata": {},
   "outputs": [
    {
     "name": "stdout",
     "output_type": "stream",
     "text": [
      "Valor atípico a eliminarse: 1.58\n"
     ]
    }
   ],
   "source": [
    "ma=wine[\"volatile acidity\"].max()\n",
    "print (\"Valor atípico a eliminarse:\", ma)\n",
    "\n",
    "#Eliminamos de nuestro conjunto de datos\n",
    "wine = wine.drop(wine[wine['volatile acidity']==ma].index)"
   ]
  },
  {
   "cell_type": "code",
   "execution_count": 9,
   "metadata": {},
   "outputs": [
    {
     "name": "stdout",
     "output_type": "stream",
     "text": [
      "Cuartil inferior: 0.09  Cuartil superior: 0.42  Media: 0.2711451814768449\n"
     ]
    },
    {
     "data": {
      "image/png": "[encoded data removed]",
      "text/plain": [
       "<Figure size 432x288 with 1 Axes>"
      ]
     },
     "metadata": {
      "needs_background": "light"
     },
     "output_type": "display_data"
    }
   ],
   "source": [
    "#Graficamos\n",
    "green_diamond = dict(markerfacecolor='y', marker='D')\n",
    "ax = sns.boxplot(x=wine[\"citric acid\"],flierprops=green_diamond)\n",
    "\n",
    "#Valores de media y quartiles para el analisis\n",
    "iqrS = (np.quantile(wine[\"citric acid\"], 0.75))\n",
    "iqrI =(np.quantile(wine[\"citric acid\"], 0.25))\n",
    "m=wine[\"citric acid\"].mean()\n",
    "print (\"Cuartil inferior:\", iqrI, \" Cuartil superior:\", iqrS, \" Media:\", m)"
   ]
  },
  {
   "cell_type": "markdown",
   "metadata": {},
   "source": [
    "<div style=\"background-color: #F4F6F6;\">  \n",
    "Se nos presenta en este caso también un único valor atipico, que se encuentra lejos de nuestra media. \n",
    " <hr>\n",
    "Procedemos a eliminar este valor atípico para que no afecte nuestro análisis posterior.\n",
    "</div>"
   ]
  },
  {
   "cell_type": "code",
   "execution_count": 10,
   "metadata": {},
   "outputs": [
    {
     "name": "stdout",
     "output_type": "stream",
     "text": [
      "Valor atípico a eliminarse: 1.0\n"
     ]
    }
   ],
   "source": [
    "ma=wine[\"citric acid\"].max()\n",
    "print (\"Valor atípico a eliminarse:\", ma)\n",
    "\n",
    "#Eliminamos de nuestro conjunto de datos\n",
    "wine = wine.drop(wine[wine['citric acid']==ma].index)"
   ]
  },
  {
   "cell_type": "code",
   "execution_count": 11,
   "metadata": {},
   "outputs": [
    {
     "name": "stdout",
     "output_type": "stream",
     "text": [
      "Cuartil inferior: 1.9  Cuartil superior: 2.6  Media: 2.5385410144020057\n"
     ]
    },
    {
     "data": {
      "image/png": "[encoded data removed]",
      "text/plain": [
       "<Figure size 432x288 with 1 Axes>"
      ]
     },
     "metadata": {
      "needs_background": "light"
     },
     "output_type": "display_data"
    }
   ],
   "source": [
    "#Graficamos\n",
    "green_diamond = dict(markerfacecolor='y', marker='D')\n",
    "ax = sns.boxplot(x=wine[\"residual sugar\"],flierprops=green_diamond)\n",
    "\n",
    "#Valores de media y quartiles para el analisis\n",
    "iqrS = (np.quantile(wine[\"residual sugar\"], 0.75))\n",
    "iqrI =(np.quantile(wine[\"residual sugar\"], 0.25))\n",
    "m=wine[\"residual sugar\"].mean()\n",
    "print (\"Cuartil inferior:\", iqrI, \" Cuartil superior:\", iqrS, \" Media:\", m)"
   ]
  },
  {
   "cell_type": "markdown",
   "metadata": {},
   "source": [
    "<div style=\"background-color: #F4F6F6;\">  \n",
    "Al igual que en la variable acidez total, se presenta una gran cantidad de valores atípicos, en este caso la cantidad de azucar residual en el vino entre los valores de 4 a 16 son normales, por lo que no es necesario tratarlos, pues estos valores ayudarán a identificar la calidad del vino en los analisis posteriores.\n",
    "</div>"
   ]
  },
  {
   "cell_type": "code",
   "execution_count": 12,
   "metadata": {},
   "outputs": [
    {
     "name": "stdout",
     "output_type": "stream",
     "text": [
      "Cuartil inferior: 0.07  Cuartil superior: 0.09  Media: 0.08710832811521577\n"
     ]
    },
    {
     "data": {
      "image/png": "[encoded data removed]",
      "text/plain": [
       "<Figure size 432x288 with 1 Axes>"
      ]
     },
     "metadata": {
      "needs_background": "light"
     },
     "output_type": "display_data"
    }
   ],
   "source": [
    "#Graficamos\n",
    "green_diamond = dict(markerfacecolor='y', marker='D')\n",
    "ax = sns.boxplot(x=wine[\"chlorides\"],flierprops=green_diamond)\n",
    "\n",
    "#Valores de media y quartiles para el analisis\n",
    "iqrS = (np.quantile(wine[\"chlorides\"], 0.75))\n",
    "iqrI =(np.quantile(wine[\"chlorides\"], 0.25))\n",
    "m=wine[\"chlorides\"].mean()\n",
    "print (\"Cuartil inferior:\", iqrI, \" Cuartil superior:\", iqrS, \" Media:\", m)"
   ]
  },
  {
   "cell_type": "markdown",
   "metadata": {},
   "source": [
    "<div style=\"background-color: #F4F6F6;\">  \n",
    "Para este caso, tenemos al igual que en la mayoria de las variables muchos valores atípicos de acuerdo al gráfico de caja, sin embargo, existe un solo valor extremo que se aleja demasiado de la media. Así que aplicaremos el mismo tratamiendo que en los otros casos, eliminandolo de nuestro conjunto.\n",
    "</div>"
   ]
  },
  {
   "cell_type": "code",
   "execution_count": 13,
   "metadata": {},
   "outputs": [
    {
     "name": "stdout",
     "output_type": "stream",
     "text": [
      "chlorides: 0.611\n"
     ]
    }
   ],
   "source": [
    "ma=wine[\"chlorides\"].max()\n",
    "print (\"chlorides:\", ma)\n",
    "\n",
    "#Eliminamos de nuestro conjunto de datos\n",
    "wine = wine.drop(wine[wine['chlorides']==ma].index)"
   ]
  },
  {
   "cell_type": "code",
   "execution_count": 14,
   "metadata": {},
   "outputs": [
    {
     "name": "stdout",
     "output_type": "stream",
     "text": [
      "Cuartil inferior: 7.0  Cuartil superior: 21.0  Media: 15.8765664160401\n"
     ]
    },
    {
     "data": {
      "image/png": "[encoded data removed]",
      "text/plain": [
       "<Figure size 432x288 with 1 Axes>"
      ]
     },
     "metadata": {
      "needs_background": "light"
     },
     "output_type": "display_data"
    }
   ],
   "source": [
    "#Graficamos\n",
    "green_diamond = dict(markerfacecolor='y', marker='D')\n",
    "ax = sns.boxplot(x=wine[\"free sulfur dioxide\"],flierprops=green_diamond)\n",
    "\n",
    "#Valores de media y quartiles para el analisis\n",
    "iqrS = (np.quantile(wine[\"free sulfur dioxide\"], 0.75))\n",
    "iqrI =(np.quantile(wine[\"free sulfur dioxide\"], 0.25))\n",
    "m=wine[\"free sulfur dioxide\"].mean()\n",
    "print (\"Cuartil inferior:\", iqrI, \" Cuartil superior:\", iqrS, \" Media:\", m)"
   ]
  },
  {
   "cell_type": "markdown",
   "metadata": {},
   "source": [
    "<div style=\"background-color: #F4F6F6;\">\n",
    "Para la variable 'free sulfur dioxide', se observa en especial 3 valores atípicos que se encuentan lejos de la media. Sin embargo, investigando en (https://www.infoagro.com/instrumentos_medida/doc_sulfuroso_vino.asp?k=1), muestra una tabla donde los valores de 40 y 70 de SULFUROSO no son valores anormales en un vino, por lo que en este caso no aplicaremos ningún tratamiento.\n",
    "</div>"
   ]
  },
  {
   "cell_type": "code",
   "execution_count": 15,
   "metadata": {},
   "outputs": [
    {
     "name": "stdout",
     "output_type": "stream",
     "text": [
      "Cuartil inferior: 22.0  Cuartil superior: 62.0  Media: 46.478070175438596\n"
     ]
    },
    {
     "data": {
      "image/png": "[encoded data removed]",
      "text/plain": [
       "<Figure size 432x288 with 1 Axes>"
      ]
     },
     "metadata": {
      "needs_background": "light"
     },
     "output_type": "display_data"
    }
   ],
   "source": [
    "#Graficamos\n",
    "green_diamond = dict(markerfacecolor='y', marker='D')\n",
    "ax = sns.boxplot(x=wine[\"total sulfur dioxide\"],flierprops=green_diamond)\n",
    "\n",
    "#Valores de media y quartiles para el analisis\n",
    "iqrS = (np.quantile(wine[\"total sulfur dioxide\"], 0.75))\n",
    "iqrI =(np.quantile(wine[\"total sulfur dioxide\"], 0.25))\n",
    "m=wine[\"total sulfur dioxide\"].mean()\n",
    "print (\"Cuartil inferior:\", iqrI, \" Cuartil superior:\", iqrS, \" Media:\", m)"
   ]
  },
  {
   "cell_type": "markdown",
   "metadata": {},
   "source": [
    "<div style=\"background-color: #F4F6F6;\">\n",
    "En esta variable, tenemos dos valores que se encuentran demasiado alejados de la media, por lo que sí podrían causar ruído en nuestro analsis. \n",
    "<hr>\n",
    "    \n",
    "Eliminaremos estos dos valores de nuestro conjunto de datos.\n",
    "</div>"
   ]
  },
  {
   "cell_type": "code",
   "execution_count": 16,
   "metadata": {},
   "outputs": [
    {
     "name": "stdout",
     "output_type": "stream",
     "text": [
      "Valor atípico a eliminarse 1: 289.0\n",
      "Valor atípico a eliminarse 2: 278.0\n"
     ]
    }
   ],
   "source": [
    "ma=wine[\"total sulfur dioxide\"].max() \n",
    "print (\"Valor atípico a eliminarse 1:\", ma)\n",
    "\n",
    "#Eliminamos de nuestro conjunto de datos el primer extremo\n",
    "wine = wine.drop(wine[wine['total sulfur dioxide']==ma].index)\n",
    "\n",
    "#Ahora el segundo\n",
    "ma1=wine[\"total sulfur dioxide\"].max() \n",
    "print (\"Valor atípico a eliminarse 2:\", ma1)\n",
    "wine = wine.drop(wine[wine['total sulfur dioxide']==ma1].index)"
   ]
  },
  {
   "cell_type": "code",
   "execution_count": 17,
   "metadata": {},
   "outputs": [
    {
     "data": {
      "image/png": "[encoded data removed]",
      "text/plain": [
       "<Figure size 432x288 with 1 Axes>"
      ]
     },
     "metadata": {
      "needs_background": "light"
     },
     "output_type": "display_data"
    }
   ],
   "source": [
    "#Graficamos nuevamente, con los extremos eliminados\n",
    "green_diamond = dict(markerfacecolor='y', marker='D')\n",
    "ax = sns.boxplot(x=wine[\"total sulfur dioxide\"],flierprops=green_diamond)\n"
   ]
  },
  {
   "cell_type": "code",
   "execution_count": 18,
   "metadata": {},
   "outputs": [
    {
     "name": "stdout",
     "output_type": "stream",
     "text": [
      "Cuartil inferior: 3.21  Cuartil superior: 3.4  Media: 3.3118883312421583\n"
     ]
    },
    {
     "data": {
      "image/png": "[encoded data removed]",
      "text/plain": [
       "<Figure size 432x288 with 1 Axes>"
      ]
     },
     "metadata": {
      "needs_background": "light"
     },
     "output_type": "display_data"
    }
   ],
   "source": [
    "#Graficamos\n",
    "green_diamond = dict(markerfacecolor='y', marker='D')\n",
    "ax = sns.boxplot(x=wine[\"pH\"],flierprops=green_diamond)\n",
    "\n",
    "#Valores de media y quartiles para el analisis\n",
    "iqrS = (np.quantile(wine[\"pH\"], 0.75))\n",
    "iqrI =(np.quantile(wine[\"pH\"], 0.25))\n",
    "m=wine[\"pH\"].mean()\n",
    "print (\"Cuartil inferior:\", iqrI, \" Cuartil superior:\", iqrS, \" Media:\", m)"
   ]
  },
  {
   "cell_type": "markdown",
   "metadata": {},
   "source": [
    "<div style=\"background-color: #F4F6F6;\">\n",
    "Aquí no tenemos valores muy alejados de la media, por lo que todos serán considerados para nuestro análisis posterior.\n",
    "</div>"
   ]
  },
  {
   "cell_type": "code",
   "execution_count": 19,
   "metadata": {},
   "outputs": [
    {
     "name": "stdout",
     "output_type": "stream",
     "text": [
      "Cuartil inferior: 0.55  Cuartil superior: 0.73  Media: 0.6572772898368888\n"
     ]
    },
    {
     "data": {
      "image/png": "[encoded data removed]",
      "text/plain": [
       "<Figure size 432x288 with 1 Axes>"
      ]
     },
     "metadata": {
      "needs_background": "light"
     },
     "output_type": "display_data"
    }
   ],
   "source": [
    "#Graficamos\n",
    "green_diamond = dict(markerfacecolor='y', marker='D')\n",
    "ax = sns.boxplot(x=wine[\"sulphates\"],flierprops=green_diamond)\n",
    "\n",
    "#Valores de media y quartiles para el analisis\n",
    "iqrS = (np.quantile(wine[\"sulphates\"], 0.75))\n",
    "iqrI =(np.quantile(wine[\"sulphates\"], 0.25))\n",
    "m=wine[\"sulphates\"].mean()\n",
    "print (\"Cuartil inferior:\", iqrI, \" Cuartil superior:\", iqrS, \" Media:\", m)"
   ]
  },
  {
   "cell_type": "markdown",
   "metadata": {},
   "source": [
    "<div style=\"background-color: #F4F6F6;\">\n",
    "Para este caso, también contamos dos valores que se encuentran lejos de la media. Estos valores podrían afectar causar ruído a nuestro análisis.  \n",
    "\n",
    "Los demás valores que se muestran como extremos en nuestra digrama de caja, son masivos por lo que serán considerados para nuestro analisis. \n",
    "\n",
    "<hr>\n",
    "    \n",
    "Trataremos únicamente los dos últimos valores extremos como en los casos anteriores eliminando de nuestro conjunto de datos.\n",
    "\n",
    "</div>"
   ]
  },
  {
   "cell_type": "code",
   "execution_count": 20,
   "metadata": {},
   "outputs": [
    {
     "name": "stdout",
     "output_type": "stream",
     "text": [
      "Valor atípico a eliminarse 1: 1.98\n"
     ]
    }
   ],
   "source": [
    "ma=wine[\"sulphates\"].max() \n",
    "print (\"Valor atípico a eliminarse 1:\", ma)\n",
    "\n",
    "#Eliminamos de nuestro conjunto de datos el primer extremo\n",
    "wine = wine.drop(wine[wine['total sulfur dioxide']==ma].index)"
   ]
  },
  {
   "cell_type": "code",
   "execution_count": 21,
   "metadata": {},
   "outputs": [
    {
     "name": "stdout",
     "output_type": "stream",
     "text": [
      "Valor atípico a eliminarse 2: 1.98\n"
     ]
    }
   ],
   "source": [
    "#Ahora el segundo\n",
    "ma1=wine[\"sulphates\"].max()\n",
    "print (\"Valor atípico a eliminarse 2:\", ma1)\n",
    "#wine = wine.drop(wine[wine['sulphates']==ma1].index)"
   ]
  },
  {
   "cell_type": "code",
   "execution_count": 22,
   "metadata": {},
   "outputs": [
    {
     "data": {
      "image/png": "[encoded data removed]",
      "text/plain": [
       "<Figure size 432x288 with 1 Axes>"
      ]
     },
     "metadata": {
      "needs_background": "light"
     },
     "output_type": "display_data"
    }
   ],
   "source": [
    "green_diamond = dict(markerfacecolor='y', marker='D')\n",
    "ax = sns.boxplot(x=wine[\"alcohol\"],flierprops=green_diamond)"
   ]
  },
  {
   "cell_type": "markdown",
   "metadata": {},
   "source": [
    "<div style=\"background-color: #F4F6F6;\">\n",
    "Finalmente, con la variable 'Alcohol', si bien existen tres valores fuera del rango, estos no se encuentran tan alejados de la media. Considerando que niveles altos de alcohol en un vino no son valores incorrectos, no daremos ningún tratamiento a esta variable.\n",
    "\n",
    "</div>"
   ]
  },
  {
   "cell_type": "markdown",
   "metadata": {},
   "source": [
    "<div style=\"background-color: #EDF7FF; border-color: #7C9DBF; border-left: 5px solid #7C9DBF; padding: 0.5em;\">\n",
    "<strong>Resumen de la limpieza de datos</strong> \n",
    "</div>"
   ]
  },
  {
   "cell_type": "markdown",
   "metadata": {},
   "source": [
    "<div style=\"background-color: #F4F6F6;\">\n",
    "...pendiente...\n",
    "</div>"
   ]
  },
  {
   "cell_type": "markdown",
   "metadata": {},
   "source": [
    "<div style=\"background-color: #EDF7FF; border-color: #7C9DBF; border-left: 5px solid #7C9DBF; padding: 0.5em;\">\n",
    "<strong>Exportación de los datos preprocesados</strong> \n",
    "</div>"
   ]
  },
  {
   "cell_type": "code",
   "execution_count": 23,
   "metadata": {},
   "outputs": [],
   "source": [
    "wine.to_csv(\"winequality-red-clean.csv\")"
   ]
  },
  {
   "cell_type": "markdown",
   "metadata": {},
   "source": [
    "# 4. Análisis gráfico.\n",
    "\n",
    "<hr>\n",
    "<div style=\"background-color: #F4F6F6;\">\n",
    "Con la carga de los datos tratados, donde se ha analizado valores nulos, perdidos y extremos. A continuación, vamos a realizar un análisis gráfico de nuestras variables indicadora con la variable objetivo.\n",
    "   \n",
    "\n",
    "Las gráficas nos darán un indicador de aquellas variables que tienen mayor o menor relación con la variable objetivo.\n",
    "    \n",
    "</div>"
   ]
  },
  {
   "cell_type": "markdown",
   "metadata": {},
   "source": [
    "<div style=\"background-color: #F4F6F6;\">\n",
    "Primero, cargamos nuestro set de datos preprocesado y observamos sus primeras 10 filas.\n",
    "</div>"
   ]
  },
  {
   "cell_type": "code",
   "execution_count": 24,
   "metadata": {},
   "outputs": [
    {
     "data": {
      "text/html": [
       "<div>\n",
       "<style scoped>\n",
       "    .dataframe tbody tr th:only-of-type {\n",
       "        vertical-align: middle;\n",
       "    }\n",
       "\n",
       "    .dataframe tbody tr th {\n",
       "        vertical-align: top;\n",
       "    }\n",
       "\n",
       "    .dataframe thead th {\n",
       "        text-align: right;\n",
       "    }\n",
       "</style>\n",
       "<table border=\"1\" class=\"dataframe\">\n",
       "  <thead>\n",
       "    <tr style=\"text-align: right;\">\n",
       "      <th></th>\n",
       "      <th>Unnamed: 0</th>\n",
       "      <th>fixed acidity</th>\n",
       "      <th>volatile acidity</th>\n",
       "      <th>citric acid</th>\n",
       "      <th>residual sugar</th>\n",
       "      <th>chlorides</th>\n",
       "      <th>free sulfur dioxide</th>\n",
       "      <th>total sulfur dioxide</th>\n",
       "      <th>density</th>\n",
       "      <th>pH</th>\n",
       "      <th>sulphates</th>\n",
       "      <th>alcohol</th>\n",
       "      <th>quality</th>\n",
       "    </tr>\n",
       "  </thead>\n",
       "  <tbody>\n",
       "    <tr>\n",
       "      <th>0</th>\n",
       "      <td>0</td>\n",
       "      <td>7.4</td>\n",
       "      <td>0.70</td>\n",
       "      <td>0.00</td>\n",
       "      <td>1.9</td>\n",
       "      <td>0.076</td>\n",
       "      <td>11.0</td>\n",
       "      <td>34.0</td>\n",
       "      <td>0.9978</td>\n",
       "      <td>3.51</td>\n",
       "      <td>0.56</td>\n",
       "      <td>9.4</td>\n",
       "      <td>5</td>\n",
       "    </tr>\n",
       "    <tr>\n",
       "      <th>1</th>\n",
       "      <td>1</td>\n",
       "      <td>7.8</td>\n",
       "      <td>0.88</td>\n",
       "      <td>0.00</td>\n",
       "      <td>2.6</td>\n",
       "      <td>0.098</td>\n",
       "      <td>25.0</td>\n",
       "      <td>67.0</td>\n",
       "      <td>0.9968</td>\n",
       "      <td>3.20</td>\n",
       "      <td>0.68</td>\n",
       "      <td>9.8</td>\n",
       "      <td>5</td>\n",
       "    </tr>\n",
       "    <tr>\n",
       "      <th>2</th>\n",
       "      <td>2</td>\n",
       "      <td>7.8</td>\n",
       "      <td>0.76</td>\n",
       "      <td>0.04</td>\n",
       "      <td>2.3</td>\n",
       "      <td>0.092</td>\n",
       "      <td>15.0</td>\n",
       "      <td>54.0</td>\n",
       "      <td>0.9970</td>\n",
       "      <td>3.26</td>\n",
       "      <td>0.65</td>\n",
       "      <td>9.8</td>\n",
       "      <td>5</td>\n",
       "    </tr>\n",
       "    <tr>\n",
       "      <th>3</th>\n",
       "      <td>3</td>\n",
       "      <td>11.2</td>\n",
       "      <td>0.28</td>\n",
       "      <td>0.56</td>\n",
       "      <td>1.9</td>\n",
       "      <td>0.075</td>\n",
       "      <td>17.0</td>\n",
       "      <td>60.0</td>\n",
       "      <td>0.9980</td>\n",
       "      <td>3.16</td>\n",
       "      <td>0.58</td>\n",
       "      <td>9.8</td>\n",
       "      <td>6</td>\n",
       "    </tr>\n",
       "    <tr>\n",
       "      <th>4</th>\n",
       "      <td>4</td>\n",
       "      <td>7.4</td>\n",
       "      <td>0.70</td>\n",
       "      <td>0.00</td>\n",
       "      <td>1.9</td>\n",
       "      <td>0.076</td>\n",
       "      <td>11.0</td>\n",
       "      <td>34.0</td>\n",
       "      <td>0.9978</td>\n",
       "      <td>3.51</td>\n",
       "      <td>0.56</td>\n",
       "      <td>9.4</td>\n",
       "      <td>5</td>\n",
       "    </tr>\n",
       "    <tr>\n",
       "      <th>5</th>\n",
       "      <td>5</td>\n",
       "      <td>7.4</td>\n",
       "      <td>0.66</td>\n",
       "      <td>0.00</td>\n",
       "      <td>1.8</td>\n",
       "      <td>0.075</td>\n",
       "      <td>13.0</td>\n",
       "      <td>40.0</td>\n",
       "      <td>0.9978</td>\n",
       "      <td>3.51</td>\n",
       "      <td>0.56</td>\n",
       "      <td>9.4</td>\n",
       "      <td>5</td>\n",
       "    </tr>\n",
       "    <tr>\n",
       "      <th>6</th>\n",
       "      <td>6</td>\n",
       "      <td>7.9</td>\n",
       "      <td>0.60</td>\n",
       "      <td>0.06</td>\n",
       "      <td>1.6</td>\n",
       "      <td>0.069</td>\n",
       "      <td>15.0</td>\n",
       "      <td>59.0</td>\n",
       "      <td>0.9964</td>\n",
       "      <td>3.30</td>\n",
       "      <td>0.46</td>\n",
       "      <td>9.4</td>\n",
       "      <td>5</td>\n",
       "    </tr>\n",
       "    <tr>\n",
       "      <th>7</th>\n",
       "      <td>7</td>\n",
       "      <td>7.3</td>\n",
       "      <td>0.65</td>\n",
       "      <td>0.00</td>\n",
       "      <td>1.2</td>\n",
       "      <td>0.065</td>\n",
       "      <td>15.0</td>\n",
       "      <td>21.0</td>\n",
       "      <td>0.9946</td>\n",
       "      <td>3.39</td>\n",
       "      <td>0.47</td>\n",
       "      <td>10.0</td>\n",
       "      <td>7</td>\n",
       "    </tr>\n",
       "    <tr>\n",
       "      <th>8</th>\n",
       "      <td>8</td>\n",
       "      <td>7.8</td>\n",
       "      <td>0.58</td>\n",
       "      <td>0.02</td>\n",
       "      <td>2.0</td>\n",
       "      <td>0.073</td>\n",
       "      <td>9.0</td>\n",
       "      <td>18.0</td>\n",
       "      <td>0.9968</td>\n",
       "      <td>3.36</td>\n",
       "      <td>0.57</td>\n",
       "      <td>9.5</td>\n",
       "      <td>7</td>\n",
       "    </tr>\n",
       "    <tr>\n",
       "      <th>9</th>\n",
       "      <td>9</td>\n",
       "      <td>7.5</td>\n",
       "      <td>0.50</td>\n",
       "      <td>0.36</td>\n",
       "      <td>6.1</td>\n",
       "      <td>0.071</td>\n",
       "      <td>17.0</td>\n",
       "      <td>102.0</td>\n",
       "      <td>0.9978</td>\n",
       "      <td>3.35</td>\n",
       "      <td>0.80</td>\n",
       "      <td>10.5</td>\n",
       "      <td>5</td>\n",
       "    </tr>\n",
       "  </tbody>\n",
       "</table>\n",
       "</div>"
      ],
      "text/plain": [
       "   Unnamed: 0  fixed acidity  volatile acidity  citric acid  residual sugar  \\\n",
       "0           0            7.4              0.70         0.00             1.9   \n",
       "1           1            7.8              0.88         0.00             2.6   \n",
       "2           2            7.8              0.76         0.04             2.3   \n",
       "3           3           11.2              0.28         0.56             1.9   \n",
       "4           4            7.4              0.70         0.00             1.9   \n",
       "5           5            7.4              0.66         0.00             1.8   \n",
       "6           6            7.9              0.60         0.06             1.6   \n",
       "7           7            7.3              0.65         0.00             1.2   \n",
       "8           8            7.8              0.58         0.02             2.0   \n",
       "9           9            7.5              0.50         0.36             6.1   \n",
       "\n",
       "   chlorides  free sulfur dioxide  total sulfur dioxide  density    pH  \\\n",
       "0      0.076                 11.0                  34.0   0.9978  3.51   \n",
       "1      0.098                 25.0                  67.0   0.9968  3.20   \n",
       "2      0.092                 15.0                  54.0   0.9970  3.26   \n",
       "3      0.075                 17.0                  60.0   0.9980  3.16   \n",
       "4      0.076                 11.0                  34.0   0.9978  3.51   \n",
       "5      0.075                 13.0                  40.0   0.9978  3.51   \n",
       "6      0.069                 15.0                  59.0   0.9964  3.30   \n",
       "7      0.065                 15.0                  21.0   0.9946  3.39   \n",
       "8      0.073                  9.0                  18.0   0.9968  3.36   \n",
       "9      0.071                 17.0                 102.0   0.9978  3.35   \n",
       "\n",
       "   sulphates  alcohol  quality  \n",
       "0       0.56      9.4        5  \n",
       "1       0.68      9.8        5  \n",
       "2       0.65      9.8        5  \n",
       "3       0.58      9.8        6  \n",
       "4       0.56      9.4        5  \n",
       "5       0.56      9.4        5  \n",
       "6       0.46      9.4        5  \n",
       "7       0.47     10.0        7  \n",
       "8       0.57      9.5        7  \n",
       "9       0.80     10.5        5  "
      ]
     },
     "execution_count": 24,
     "metadata": {},
     "output_type": "execute_result"
    }
   ],
   "source": [
    "dataWine = pd.read_csv(\"winequality-red-clean.csv\")\n",
    "dataWine.head(10)"
   ]
  },
  {
   "cell_type": "code",
   "execution_count": null,
   "metadata": {},
   "outputs": [],
   "source": []
  }
 ],
 "metadata": {
  "colab": {
   "name": "PEC2 CVD.ipynb",
   "provenance": []
  },
  "kernelspec": {
   "display_name": "Python 3",
   "language": "python",
   "name": "python3"
  },
  "language_info": {
   "codemirror_mode": {
    "name": "ipython",
    "version": 3
   },
   "file_extension": ".py",
   "mimetype": "text/x-python",
   "name": "python",
   "nbconvert_exporter": "python",
   "pygments_lexer": "ipython3",
   "version": "3.8.3"
  }
 },
 "nbformat": 4,
 "nbformat_minor": 1
}
